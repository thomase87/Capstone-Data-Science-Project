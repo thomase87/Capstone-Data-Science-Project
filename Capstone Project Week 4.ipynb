{
 "cells": [
  {
   "cell_type": "markdown",
   "metadata": {
    "collapsed": true
   },
   "source": [
    "<h1> This is my project notebook for Week 4 </h1>"
   ]
  },
  {
   "cell_type": "markdown",
   "metadata": {},
   "source": [
    "\n",
    "<h2>1. A description of the problem and a discussion of the background </h2> <br>\n",
    "\n",
    "<b>Business Problem:</b> We want to find the best location for an Asian restaurant in Toronto. The best location is where there are  many potential customers, so a place with many companies, high density of inhabitants, or close-by stops of public transport. In addition, there should not be another Asian restaurant closeby. <br>\n",
    "\n",
    "<b>Who could be interested in this analysis?</b> Any business that wants to open a restaurant in Toronto or the city itself, who needs to approve a new restaurant."
   ]
  },
  {
   "cell_type": "code",
   "execution_count": null,
   "metadata": {},
   "outputs": [],
   "source": []
  }
 ],
 "metadata": {
  "kernelspec": {
   "display_name": "Python 3.6",
   "language": "python",
   "name": "python3"
  },
  "language_info": {
   "codemirror_mode": {
    "name": "ipython",
    "version": 3
   },
   "file_extension": ".py",
   "mimetype": "text/x-python",
   "name": "python",
   "nbconvert_exporter": "python",
   "pygments_lexer": "ipython3",
   "version": "3.6.9"
  }
 },
 "nbformat": 4,
 "nbformat_minor": 1
}
