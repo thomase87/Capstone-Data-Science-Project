{
 "cells": [
  {
   "cell_type": "markdown",
   "metadata": {},
   "source": [
    "<h2>FIRST ASSIGNMENT</h2>\n",
    "\n",
    "**Packages**"
   ]
  },
  {
   "cell_type": "code",
   "execution_count": 13,
   "metadata": {},
   "outputs": [],
   "source": [
    "import requests \n",
    "import lxml.html as lh\n",
    "import bs4 as bs\n",
    "import urllib.request\n",
    "\n",
    "import numpy as np \n",
    "import pandas as pd "
   ]
  },
  {
   "cell_type": "code",
   "execution_count": 14,
   "metadata": {},
   "outputs": [],
   "source": [
    "#URL of the Wikipedia page\n",
    "url   = \"https://en.wikipedia.org/wiki/List_of_postal_codes_of_Canada:_M\""
   ]
  },
  {
   "cell_type": "markdown",
   "metadata": {},
   "source": [
    "**Downloading the website and reducing it to the relevant table**"
   ]
  },
  {
   "cell_type": "code",
   "execution_count": 15,
   "metadata": {},
   "outputs": [],
   "source": [
    "#Get page\n",
    "page  = urllib.request.urlopen(url).read()\n",
    "#Create soup object out of it\n",
    "soup = bs.BeautifulSoup(page, 'html.parser')\n",
    "#Redruce to table\n",
    "soup_table = soup.table"
   ]
  },
  {
   "cell_type": "markdown",
   "metadata": {},
   "source": [
    "**Creating the first uncleaned version of the dataframe in pandas**"
   ]
  },
  {
   "cell_type": "code",
   "execution_count": 16,
   "metadata": {},
   "outputs": [
    {
     "name": "stdout",
     "output_type": "stream",
     "text": [
      "  Postcode           Borough     Neighbourhood\n",
      "0      M1A      Not assigned      Not assigned\n",
      "1      M2A      Not assigned      Not assigned\n",
      "2      M3A        North York         Parkwoods\n",
      "3      M4A        North York  Victoria Village\n",
      "4      M5A  Downtown Toronto      Harbourfront\n"
     ]
    }
   ],
   "source": [
    "#Create a list of the entries of the header part of the table\n",
    "header = [head.text.strip('\\n') for head in soup_table.find_all(\"th\")]\n",
    "# Cycle through rows and then entries and create a two dimensional list\n",
    "data   = [[td.text.strip('\\n') for td in tr.find_all(\"td\")] for tr in soup_table.find_all(\"tr\")]\n",
    "# THis is to drop the first empty entry\n",
    "data    = [row for row in data if len(row) == 3]\n",
    "\n",
    "df = pd.DataFrame(data,columns=header)\n",
    "#print(df.info(verbose=True))\n",
    "print(df[0:5])"
   ]
  },
  {
   "cell_type": "markdown",
   "metadata": {},
   "source": [
    "**Cleaning the dataframe step by step**"
   ]
  },
  {
   "cell_type": "code",
   "execution_count": 17,
   "metadata": {},
   "outputs": [
    {
     "name": "stdout",
     "output_type": "stream",
     "text": [
      "  Postcode           Borough     Neighbourhood\n",
      "0      M1A      Not assigned      Not assigned\n",
      "1      M2A      Not assigned      Not assigned\n",
      "2      M3A        North York         Parkwoods\n",
      "3      M4A        North York  Victoria Village\n",
      "4      M5A  Downtown Toronto      Harbourfront\n"
     ]
    }
   ],
   "source": [
    "#Only process the cells that have an assigned borough. Ignore cells with a borough that is Not assigned.\n",
    "df_reduced=df[~df.Borough.str.contains('Not assigned')]\n",
    "print(df[0:5])"
   ]
  },
  {
   "cell_type": "code",
   "execution_count": 18,
   "metadata": {},
   "outputs": [
    {
     "name": "stdout",
     "output_type": "stream",
     "text": [
      "Empty DataFrame\n",
      "Columns: [Postcode, Borough, Neighbourhood]\n",
      "Index: []\n"
     ]
    }
   ],
   "source": [
    "#If a cell has a borough but a Not assigned neighborhood, then the neighborhood will be the same as the borough.\n",
    "print(df_reduced[df_reduced.Neighbourhood.str.contains('Not assigned')])\n",
    "# It is never the case, so we do not need to care."
   ]
  },
  {
   "cell_type": "code",
   "execution_count": 19,
   "metadata": {},
   "outputs": [
    {
     "name": "stdout",
     "output_type": "stream",
     "text": [
      "  Postcode      Borough                           Neighbourhood\n",
      "0      M1B  Scarborough                          Malvern, Rouge\n",
      "1      M1C  Scarborough  Highland Creek, Port Union, Rouge Hill\n",
      "2      M1E  Scarborough       Guildwood, Morningside, West Hill\n",
      "3      M1G  Scarborough                                  Woburn\n",
      "4      M1H  Scarborough                               Cedarbrae\n"
     ]
    }
   ],
   "source": [
    "#More than one neighborhood can exist in one postal code area. \n",
    "#For example, in the table on the Wikipedia page, you will notice that M5A is listed twice and has two neighborhoods:\n",
    "#    Harbourfront and Regent Park.\n",
    "#These two rows will be combined into one row with the neighborhoods separated with a comma as shown in row 11 in the above table.\n",
    "df_reduced=df_reduced.sort_values(by=['Postcode','Borough','Neighbourhood'], ascending=[1,1,1]).reset_index(drop=True)\n",
    "\n",
    "df_reduced=df_reduced.groupby(['Postcode','Borough'])['Neighbourhood'].apply(', '.join).reset_index()\n",
    "\n",
    "print(df_reduced[0:5])"
   ]
  },
  {
   "cell_type": "code",
   "execution_count": 20,
   "metadata": {},
   "outputs": [
    {
     "data": {
      "text/plain": [
       "(103, 3)"
      ]
     },
     "execution_count": 20,
     "metadata": {},
     "output_type": "execute_result"
    }
   ],
   "source": [
    "df_reduced.shape"
   ]
  },
  {
   "cell_type": "markdown",
   "metadata": {},
   "source": [
    "<h2>SECOND ASSIGNMENT</h2>\n",
    "\n",
    "**We start by reading the CSV**"
   ]
  },
  {
   "cell_type": "code",
   "execution_count": 21,
   "metadata": {},
   "outputs": [
    {
     "data": {
      "text/html": [
       "<div>\n",
       "<style scoped>\n",
       "    .dataframe tbody tr th:only-of-type {\n",
       "        vertical-align: middle;\n",
       "    }\n",
       "\n",
       "    .dataframe tbody tr th {\n",
       "        vertical-align: top;\n",
       "    }\n",
       "\n",
       "    .dataframe thead th {\n",
       "        text-align: right;\n",
       "    }\n",
       "</style>\n",
       "<table border=\"1\" class=\"dataframe\">\n",
       "  <thead>\n",
       "    <tr style=\"text-align: right;\">\n",
       "      <th></th>\n",
       "      <th>Postal Code</th>\n",
       "      <th>Latitude</th>\n",
       "      <th>Longitude</th>\n",
       "    </tr>\n",
       "  </thead>\n",
       "  <tbody>\n",
       "    <tr>\n",
       "      <th>0</th>\n",
       "      <td>M1B</td>\n",
       "      <td>43.806686</td>\n",
       "      <td>-79.194353</td>\n",
       "    </tr>\n",
       "    <tr>\n",
       "      <th>1</th>\n",
       "      <td>M1C</td>\n",
       "      <td>43.784535</td>\n",
       "      <td>-79.160497</td>\n",
       "    </tr>\n",
       "    <tr>\n",
       "      <th>2</th>\n",
       "      <td>M1E</td>\n",
       "      <td>43.763573</td>\n",
       "      <td>-79.188711</td>\n",
       "    </tr>\n",
       "    <tr>\n",
       "      <th>3</th>\n",
       "      <td>M1G</td>\n",
       "      <td>43.770992</td>\n",
       "      <td>-79.216917</td>\n",
       "    </tr>\n",
       "    <tr>\n",
       "      <th>4</th>\n",
       "      <td>M1H</td>\n",
       "      <td>43.773136</td>\n",
       "      <td>-79.239476</td>\n",
       "    </tr>\n",
       "  </tbody>\n",
       "</table>\n",
       "</div>"
      ],
      "text/plain": [
       "  Postal Code   Latitude  Longitude\n",
       "0         M1B  43.806686 -79.194353\n",
       "1         M1C  43.784535 -79.160497\n",
       "2         M1E  43.763573 -79.188711\n",
       "3         M1G  43.770992 -79.216917\n",
       "4         M1H  43.773136 -79.239476"
      ]
     },
     "execution_count": 21,
     "metadata": {},
     "output_type": "execute_result"
    }
   ],
   "source": [
    "df_coordinates = pd.read_csv('http://cocl.us/Geospatial_data')\n",
    "\n",
    "df_coordinates.head()"
   ]
  },
  {
   "cell_type": "markdown",
   "metadata": {},
   "source": [
    "**Rename \"Postal Code\" to be able to merge on it**"
   ]
  },
  {
   "cell_type": "code",
   "execution_count": 22,
   "metadata": {},
   "outputs": [
    {
     "data": {
      "text/html": [
       "<div>\n",
       "<style scoped>\n",
       "    .dataframe tbody tr th:only-of-type {\n",
       "        vertical-align: middle;\n",
       "    }\n",
       "\n",
       "    .dataframe tbody tr th {\n",
       "        vertical-align: top;\n",
       "    }\n",
       "\n",
       "    .dataframe thead th {\n",
       "        text-align: right;\n",
       "    }\n",
       "</style>\n",
       "<table border=\"1\" class=\"dataframe\">\n",
       "  <thead>\n",
       "    <tr style=\"text-align: right;\">\n",
       "      <th></th>\n",
       "      <th>Postcode</th>\n",
       "      <th>Latitude</th>\n",
       "      <th>Longitude</th>\n",
       "    </tr>\n",
       "  </thead>\n",
       "  <tbody>\n",
       "    <tr>\n",
       "      <th>0</th>\n",
       "      <td>M1B</td>\n",
       "      <td>43.806686</td>\n",
       "      <td>-79.194353</td>\n",
       "    </tr>\n",
       "    <tr>\n",
       "      <th>1</th>\n",
       "      <td>M1C</td>\n",
       "      <td>43.784535</td>\n",
       "      <td>-79.160497</td>\n",
       "    </tr>\n",
       "    <tr>\n",
       "      <th>2</th>\n",
       "      <td>M1E</td>\n",
       "      <td>43.763573</td>\n",
       "      <td>-79.188711</td>\n",
       "    </tr>\n",
       "    <tr>\n",
       "      <th>3</th>\n",
       "      <td>M1G</td>\n",
       "      <td>43.770992</td>\n",
       "      <td>-79.216917</td>\n",
       "    </tr>\n",
       "    <tr>\n",
       "      <th>4</th>\n",
       "      <td>M1H</td>\n",
       "      <td>43.773136</td>\n",
       "      <td>-79.239476</td>\n",
       "    </tr>\n",
       "  </tbody>\n",
       "</table>\n",
       "</div>"
      ],
      "text/plain": [
       "  Postcode   Latitude  Longitude\n",
       "0      M1B  43.806686 -79.194353\n",
       "1      M1C  43.784535 -79.160497\n",
       "2      M1E  43.763573 -79.188711\n",
       "3      M1G  43.770992 -79.216917\n",
       "4      M1H  43.773136 -79.239476"
      ]
     },
     "execution_count": 22,
     "metadata": {},
     "output_type": "execute_result"
    }
   ],
   "source": [
    "df_coordinates.columns=df_coordinates.columns.str.replace('Postal Code','Postcode')\n",
    "df_coordinates.head()"
   ]
  },
  {
   "cell_type": "markdown",
   "metadata": {},
   "source": [
    "**Left Join to combine the coordinates with the dataset**"
   ]
  },
  {
   "cell_type": "code",
   "execution_count": 23,
   "metadata": {},
   "outputs": [
    {
     "data": {
      "text/html": [
       "<div>\n",
       "<style scoped>\n",
       "    .dataframe tbody tr th:only-of-type {\n",
       "        vertical-align: middle;\n",
       "    }\n",
       "\n",
       "    .dataframe tbody tr th {\n",
       "        vertical-align: top;\n",
       "    }\n",
       "\n",
       "    .dataframe thead th {\n",
       "        text-align: right;\n",
       "    }\n",
       "</style>\n",
       "<table border=\"1\" class=\"dataframe\">\n",
       "  <thead>\n",
       "    <tr style=\"text-align: right;\">\n",
       "      <th></th>\n",
       "      <th>Postcode</th>\n",
       "      <th>Borough</th>\n",
       "      <th>Neighbourhood</th>\n",
       "      <th>Latitude</th>\n",
       "      <th>Longitude</th>\n",
       "    </tr>\n",
       "  </thead>\n",
       "  <tbody>\n",
       "    <tr>\n",
       "      <th>0</th>\n",
       "      <td>M1B</td>\n",
       "      <td>Scarborough</td>\n",
       "      <td>Malvern, Rouge</td>\n",
       "      <td>43.806686</td>\n",
       "      <td>-79.194353</td>\n",
       "    </tr>\n",
       "    <tr>\n",
       "      <th>1</th>\n",
       "      <td>M1C</td>\n",
       "      <td>Scarborough</td>\n",
       "      <td>Highland Creek, Port Union, Rouge Hill</td>\n",
       "      <td>43.784535</td>\n",
       "      <td>-79.160497</td>\n",
       "    </tr>\n",
       "    <tr>\n",
       "      <th>2</th>\n",
       "      <td>M1E</td>\n",
       "      <td>Scarborough</td>\n",
       "      <td>Guildwood, Morningside, West Hill</td>\n",
       "      <td>43.763573</td>\n",
       "      <td>-79.188711</td>\n",
       "    </tr>\n",
       "    <tr>\n",
       "      <th>3</th>\n",
       "      <td>M1G</td>\n",
       "      <td>Scarborough</td>\n",
       "      <td>Woburn</td>\n",
       "      <td>43.770992</td>\n",
       "      <td>-79.216917</td>\n",
       "    </tr>\n",
       "    <tr>\n",
       "      <th>4</th>\n",
       "      <td>M1H</td>\n",
       "      <td>Scarborough</td>\n",
       "      <td>Cedarbrae</td>\n",
       "      <td>43.773136</td>\n",
       "      <td>-79.239476</td>\n",
       "    </tr>\n",
       "  </tbody>\n",
       "</table>\n",
       "</div>"
      ],
      "text/plain": [
       "  Postcode      Borough                           Neighbourhood   Latitude  \\\n",
       "0      M1B  Scarborough                          Malvern, Rouge  43.806686   \n",
       "1      M1C  Scarborough  Highland Creek, Port Union, Rouge Hill  43.784535   \n",
       "2      M1E  Scarborough       Guildwood, Morningside, West Hill  43.763573   \n",
       "3      M1G  Scarborough                                  Woburn  43.770992   \n",
       "4      M1H  Scarborough                               Cedarbrae  43.773136   \n",
       "\n",
       "   Longitude  \n",
       "0 -79.194353  \n",
       "1 -79.160497  \n",
       "2 -79.188711  \n",
       "3 -79.216917  \n",
       "4 -79.239476  "
      ]
     },
     "execution_count": 23,
     "metadata": {},
     "output_type": "execute_result"
    }
   ],
   "source": [
    "df_reduced_added_coordinates = pd.merge(df_reduced, df_coordinates, on='Postcode',how='left')\n",
    "df_reduced_added_coordinates.head()"
   ]
  },
  {
   "cell_type": "markdown",
   "metadata": {},
   "source": [
    "<h2>Third ASSIGNMENT</h2>"
   ]
  },
  {
   "cell_type": "code",
   "execution_count": 24,
   "metadata": {},
   "outputs": [
    {
     "name": "stdout",
     "output_type": "stream",
     "text": [
      "Requirement already satisfied: folium in /opt/conda/envs/Python36/lib/python3.6/site-packages (0.10.1)\n",
      "Requirement already satisfied: branca>=0.3.0 in /opt/conda/envs/Python36/lib/python3.6/site-packages (from folium) (0.4.0)\n",
      "Requirement already satisfied: jinja2>=2.9 in /opt/conda/envs/Python36/lib/python3.6/site-packages (from folium) (2.10)\n",
      "Requirement already satisfied: requests in /opt/conda/envs/Python36/lib/python3.6/site-packages (from folium) (2.21.0)\n",
      "Requirement already satisfied: numpy in /opt/conda/envs/Python36/lib/python3.6/site-packages (from folium) (1.15.4)\n",
      "Requirement already satisfied: six in /opt/conda/envs/Python36/lib/python3.6/site-packages (from branca>=0.3.0->folium) (1.12.0)\n",
      "Requirement already satisfied: MarkupSafe>=0.23 in /opt/conda/envs/Python36/lib/python3.6/site-packages (from jinja2>=2.9->folium) (1.1.0)\n",
      "Requirement already satisfied: chardet<3.1.0,>=3.0.2 in /opt/conda/envs/Python36/lib/python3.6/site-packages (from requests->folium) (3.0.4)\n",
      "Requirement already satisfied: urllib3<1.25,>=1.21.1 in /opt/conda/envs/Python36/lib/python3.6/site-packages (from requests->folium) (1.24.1)\n",
      "Requirement already satisfied: certifi>=2017.4.17 in /opt/conda/envs/Python36/lib/python3.6/site-packages (from requests->folium) (2019.11.28)\n",
      "Requirement already satisfied: idna<2.9,>=2.5 in /opt/conda/envs/Python36/lib/python3.6/site-packages (from requests->folium) (2.8)\n"
     ]
    }
   ],
   "source": [
    "!pip install folium"
   ]
  },
  {
   "cell_type": "code",
   "execution_count": 48,
   "metadata": {},
   "outputs": [
    {
     "name": "stdout",
     "output_type": "stream",
     "text": [
      "103\n"
     ]
    },
    {
     "data": {
      "text/html": [
       "<div style=\"width:100%;\"><div style=\"position:relative;width:100%;height:0;padding-bottom:60%;\"><iframe src=\"about:blank\" style=\"position:absolute;width:100%;height:100%;left:0;top:0;border:none !important;\" data-html=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 onload=\"this.contentDocument.open();this.contentDocument.write(atob(this.getAttribute('data-html')));this.contentDocument.close();\" allowfullscreen webkitallowfullscreen mozallowfullscreen></iframe></div></div>"
      ],
      "text/plain": [
       "<folium.folium.Map at 0x7fd15cfa85f8>"
      ]
     },
     "metadata": {},
     "output_type": "display_data"
    }
   ],
   "source": [
    "import folium\n",
    "\n",
    "MAP_COORDINATES = (43.6970,-79.347015)\n",
    "  \n",
    "# create empty map zoomed in on Toronto\n",
    "map = folium.Map(location=MAP_COORDINATES, zoom_start=11)\n",
    " \n",
    "print(len(df_reduced_added_coordinates.Postcode.index))\n",
    "\n",
    "for j in df_reduced_added_coordinates.Postcode.index:\n",
    "    folium.Marker(location = [df_reduced_added_coordinates.Latitude[j],df_reduced_added_coordinates.Longitude[j]],clustered_marker = True).add_to(map)\n",
    "  \n",
    "display(map) #MAP would be shown, but not visible in GitHub"
   ]
  },
  {
   "cell_type": "code",
   "execution_count": null,
   "metadata": {},
   "outputs": [],
   "source": []
  }
 ],
 "metadata": {
  "kernelspec": {
   "display_name": "Python 3.6",
   "language": "python",
   "name": "python3"
  },
  "language_info": {
   "codemirror_mode": {
    "name": "ipython",
    "version": 3
   },
   "file_extension": ".py",
   "mimetype": "text/x-python",
   "name": "python",
   "nbconvert_exporter": "python",
   "pygments_lexer": "ipython3",
   "version": "3.6.9"
  }
 },
 "nbformat": 4,
 "nbformat_minor": 1
}
